{
 "cells": [
  {
   "cell_type": "code",
   "execution_count": 1,
   "id": "48a1bd83",
   "metadata": {},
   "outputs": [],
   "source": [
    "import os\n",
    "import math\n",
    "import random\n",
    "import smtplib"
   ]
  },
  {
   "cell_type": "code",
   "execution_count": 2,
   "id": "2e355ac2",
   "metadata": {},
   "outputs": [],
   "source": [
    "digits=\"0123456789\"\n",
    "OTP=\"\"\n",
    "for i in range(6):\n",
    "    OTP+=digits[math.floor(random.random()*10)]\n",
    "otp = OTP + \" is your OTP\"\n",
    "msg= otp\n"
   ]
  },
  {
   "cell_type": "code",
   "execution_count": 3,
   "id": "0df45ac1",
   "metadata": {},
   "outputs": [
    {
     "name": "stdout",
     "output_type": "stream",
     "text": [
      "Enter your email: ushareddypendyala636@gmail.com\n",
      "Enter Your OTP >>: 67456745\n",
      "Please Check your OTP again\n"
     ]
    }
   ],
   "source": [
    "s = smtplib.SMTP('smtp.gmail.com', 587)                                # To call gmail account Client.\n",
    "s.starttls()\n",
    "s.login(\"ushareddypendyala636@gmail.com\", \"idlafmkeoutbtjgp\")            # To Login into your account.\n",
    "emailid = input(\"Enter your email: \")\n",
    "s.sendmail('&&&&&&&&&&&',emailid,msg)                                  # Sending the OTP email.\n",
    "o = input(\"Enter Your OTP >>: \")\n",
    "if o == OTP:\n",
    "    print(\"Congratulations!! Your Account has been Successfully Verified\")\n",
    "else:\n",
    "    print(\"Please Check your OTP again\")"
   ]
  },
  {
   "cell_type": "code",
   "execution_count": null,
   "id": "68955c32",
   "metadata": {},
   "outputs": [],
   "source": []
  }
 ],
 "metadata": {
  "kernelspec": {
   "display_name": "Python 3 (ipykernel)",
   "language": "python",
   "name": "python3"
  },
  "language_info": {
   "codemirror_mode": {
    "name": "ipython",
    "version": 3
   },
   "file_extension": ".py",
   "mimetype": "text/x-python",
   "name": "python",
   "nbconvert_exporter": "python",
   "pygments_lexer": "ipython3",
   "version": "3.9.13"
  }
 },
 "nbformat": 4,
 "nbformat_minor": 5
}
